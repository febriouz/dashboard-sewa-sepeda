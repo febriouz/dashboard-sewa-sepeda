{
  "cells": [
    {
      "cell_type": "markdown",
      "metadata": {
        "id": "H9wADwK78DCz"
      },
      "source": [
        "# Proyek Analisis Data: [Input Nama Dataset]\n",
        "- **Nama:** Indah Febri\n",
        "- **Email:** findah212@gmail.com\n",
        "- **ID Dicoding:** febriouz"
      ]
    },
    {
      "cell_type": "markdown",
      "metadata": {
        "id": "eE0raob58DC0"
      },
      "source": [
        "## Menentukan Pertanyaan Bisnis"
      ]
    },
    {
      "cell_type": "markdown",
      "metadata": {
        "id": "GmQeQ5YF8DC0"
      },
      "source": [
        "- Bagaimana pengaruh faktor cuaca terhadap jumlah penyewaan sepeda?\n",
        "- Apa hubungan antara hari kerja dan akhir pekan dengan jumlah penyewaan sepeda?"
      ]
    },
    {
      "cell_type": "markdown",
      "metadata": {
        "id": "H-z4QGlO8DC1"
      },
      "source": [
        "## Import Semua Packages/Library yang Digunakan"
      ]
    },
    {
      "cell_type": "code",
      "execution_count": 4,
      "metadata": {
        "id": "FVYwaObI8DC1"
      },
      "outputs": [],
      "source": [
        "import numpy as np\n",
        "import pandas as pd\n",
        "import matplotlib.pyplot as plt\n",
        "import seaborn as sns"
      ]
    },
    {
      "cell_type": "markdown",
      "metadata": {
        "id": "h_Sh51Xy8DC1"
      },
      "source": [
        "## Data Wrangling"
      ]
    },
    {
      "cell_type": "markdown",
      "metadata": {
        "id": "sXU2GBYu8DC1"
      },
      "source": [
        "### Gathering Data"
      ]
    },
    {
      "cell_type": "code",
      "execution_count": 5,
      "metadata": {
        "id": "zjCBk1BI8DC1",
        "colab": {
          "base_uri": "https://localhost:8080/"
        },
        "outputId": "b61b058d-3264-4d42-f7af-1039cbf2b7c7"
      },
      "outputs": [
        {
          "output_type": "stream",
          "name": "stdout",
          "text": [
            "First few rows of hour.csv:\n",
            "   instant      dteday  season  yr  mnth  hr  holiday  weekday  workingday  \\\n",
            "0        1  2011-01-01       1   0     1   0        0        6           0   \n",
            "1        2  2011-01-01       1   0     1   1        0        6           0   \n",
            "2        3  2011-01-01       1   0     1   2        0        6           0   \n",
            "3        4  2011-01-01       1   0     1   3        0        6           0   \n",
            "4        5  2011-01-01       1   0     1   4        0        6           0   \n",
            "\n",
            "   weathersit  temp   atemp   hum  windspeed  casual  registered  cnt  \n",
            "0           1  0.24  0.2879  0.81        0.0       3          13   16  \n",
            "1           1  0.22  0.2727  0.80        0.0       8          32   40  \n",
            "2           1  0.22  0.2727  0.80        0.0       5          27   32  \n",
            "3           1  0.24  0.2879  0.75        0.0       3          10   13  \n",
            "4           1  0.24  0.2879  0.75        0.0       0           1    1  \n",
            "\n",
            "First few rows of day.csv:\n",
            "   instant      dteday  season  yr  mnth  holiday  weekday  workingday  \\\n",
            "0        1  2011-01-01       1   0     1        0        6           0   \n",
            "1        2  2011-01-02       1   0     1        0        0           0   \n",
            "2        3  2011-01-03       1   0     1        0        1           1   \n",
            "3        4  2011-01-04       1   0     1        0        2           1   \n",
            "4        5  2011-01-05       1   0     1        0        3           1   \n",
            "\n",
            "   weathersit      temp     atemp       hum  windspeed  casual  registered  \\\n",
            "0           2  0.344167  0.363625  0.805833   0.160446     331         654   \n",
            "1           2  0.363478  0.353739  0.696087   0.248539     131         670   \n",
            "2           1  0.196364  0.189405  0.437273   0.248309     120        1229   \n",
            "3           1  0.200000  0.212122  0.590435   0.160296     108        1454   \n",
            "4           1  0.226957  0.229270  0.436957   0.186900      82        1518   \n",
            "\n",
            "    cnt  \n",
            "0   985  \n",
            "1   801  \n",
            "2  1349  \n",
            "3  1562  \n",
            "4  1600  \n",
            "\n",
            "Information about hour.csv:\n",
            "<class 'pandas.core.frame.DataFrame'>\n",
            "RangeIndex: 17379 entries, 0 to 17378\n",
            "Data columns (total 17 columns):\n",
            " #   Column      Non-Null Count  Dtype  \n",
            "---  ------      --------------  -----  \n",
            " 0   instant     17379 non-null  int64  \n",
            " 1   dteday      17379 non-null  object \n",
            " 2   season      17379 non-null  int64  \n",
            " 3   yr          17379 non-null  int64  \n",
            " 4   mnth        17379 non-null  int64  \n",
            " 5   hr          17379 non-null  int64  \n",
            " 6   holiday     17379 non-null  int64  \n",
            " 7   weekday     17379 non-null  int64  \n",
            " 8   workingday  17379 non-null  int64  \n",
            " 9   weathersit  17379 non-null  int64  \n",
            " 10  temp        17379 non-null  float64\n",
            " 11  atemp       17379 non-null  float64\n",
            " 12  hum         17379 non-null  float64\n",
            " 13  windspeed   17379 non-null  float64\n",
            " 14  casual      17379 non-null  int64  \n",
            " 15  registered  17379 non-null  int64  \n",
            " 16  cnt         17379 non-null  int64  \n",
            "dtypes: float64(4), int64(12), object(1)\n",
            "memory usage: 2.3+ MB\n",
            "\n",
            "Information about day.csv:\n",
            "<class 'pandas.core.frame.DataFrame'>\n",
            "RangeIndex: 731 entries, 0 to 730\n",
            "Data columns (total 16 columns):\n",
            " #   Column      Non-Null Count  Dtype  \n",
            "---  ------      --------------  -----  \n",
            " 0   instant     731 non-null    int64  \n",
            " 1   dteday      731 non-null    object \n",
            " 2   season      731 non-null    int64  \n",
            " 3   yr          731 non-null    int64  \n",
            " 4   mnth        731 non-null    int64  \n",
            " 5   holiday     731 non-null    int64  \n",
            " 6   weekday     731 non-null    int64  \n",
            " 7   workingday  731 non-null    int64  \n",
            " 8   weathersit  731 non-null    int64  \n",
            " 9   temp        731 non-null    float64\n",
            " 10  atemp       731 non-null    float64\n",
            " 11  hum         731 non-null    float64\n",
            " 12  windspeed   731 non-null    float64\n",
            " 13  casual      731 non-null    int64  \n",
            " 14  registered  731 non-null    int64  \n",
            " 15  cnt         731 non-null    int64  \n",
            "dtypes: float64(4), int64(11), object(1)\n",
            "memory usage: 91.5+ KB\n"
          ]
        }
      ],
      "source": [
        "# Memuat data CSV yang sudah di-upload\n",
        "hour_df = pd.read_csv('hour.csv')  # Ganti nama file sesuai dengan file yang di-upload\n",
        "day_df = pd.read_csv('day.csv')    # Ganti nama file sesuai dengan file yang di-upload\n",
        "\n",
        "# Menampilkan beberapa baris pertama dari kedua dataset untuk pengecekan\n",
        "print(\"First few rows of hour.csv:\")\n",
        "print(hour_df.head())\n",
        "\n",
        "print(\"\\nFirst few rows of day.csv:\")\n",
        "print(day_df.head())\n",
        "\n",
        "# Menampilkan informasi umum tentang kedua dataset\n",
        "print(\"\\nInformation about hour.csv:\")\n",
        "hour_df.info()\n",
        "\n",
        "print(\"\\nInformation about day.csv:\")\n",
        "day_df.info()"
      ]
    },
    {
      "cell_type": "markdown",
      "source": [
        "**Insight:**\n",
        "\n",
        "-Dataset hour.csv memberikan data per jam, cocok untuk analisis lebih mendalam tentang pengaruh cuaca dan hari kerja.\n",
        "\n",
        "\n",
        "\n",
        "-Dataset day.csv memberi gambaran per hari, berguna untuk tren jangka panjang dan analisis musiman.\n"
      ],
      "metadata": {
        "id": "MMi6xGaDkbCi"
      }
    },
    {
      "cell_type": "markdown",
      "metadata": {
        "id": "FHSiqaZp8DC1"
      },
      "source": [
        "### Assessing Data"
      ]
    },
    {
      "cell_type": "code",
      "source": [
        "# Memuat data CSV\n",
        "hour_df = pd.read_csv('hour.csv')  # Pastikan nama file sesuai dengan yang di-upload\n",
        "day_df = pd.read_csv('day.csv')    # Pastikan nama file sesuai dengan yang di-upload\n",
        "\n",
        "# Menampilkan beberapa baris pertama dari kedua dataset untuk pengecekan\n",
        "print(\"First few rows of hour.csv:\")\n",
        "print(hour_df.head())\n",
        "\n",
        "print(\"\\nFirst few rows of day.csv:\")\n",
        "print(day_df.head())\n",
        "\n",
        "# Menampilkan informasi umum tentang kedua dataset (jumlah baris, kolom, tipe data)\n",
        "print(\"\\nInformation about hour.csv:\")\n",
        "hour_df.info()\n",
        "\n",
        "print(\"\\nInformation about day.csv:\")\n",
        "day_df.info()\n",
        "\n",
        "# Mengecek apakah ada nilai yang hilang (missing values)\n",
        "print(\"\\nMissing values in hour.csv:\")\n",
        "print(hour_df.isnull().sum())\n",
        "\n",
        "print(\"\\nMissing values in day.csv:\")\n",
        "print(day_df.isnull().sum())"
      ],
      "metadata": {
        "id": "ax-3tEjc9Cj1",
        "colab": {
          "base_uri": "https://localhost:8080/"
        },
        "outputId": "dcf150fd-4da5-457d-e118-604c6d2b11d7"
      },
      "execution_count": 6,
      "outputs": [
        {
          "output_type": "stream",
          "name": "stdout",
          "text": [
            "First few rows of hour.csv:\n",
            "   instant      dteday  season  yr  mnth  hr  holiday  weekday  workingday  \\\n",
            "0        1  2011-01-01       1   0     1   0        0        6           0   \n",
            "1        2  2011-01-01       1   0     1   1        0        6           0   \n",
            "2        3  2011-01-01       1   0     1   2        0        6           0   \n",
            "3        4  2011-01-01       1   0     1   3        0        6           0   \n",
            "4        5  2011-01-01       1   0     1   4        0        6           0   \n",
            "\n",
            "   weathersit  temp   atemp   hum  windspeed  casual  registered  cnt  \n",
            "0           1  0.24  0.2879  0.81        0.0       3          13   16  \n",
            "1           1  0.22  0.2727  0.80        0.0       8          32   40  \n",
            "2           1  0.22  0.2727  0.80        0.0       5          27   32  \n",
            "3           1  0.24  0.2879  0.75        0.0       3          10   13  \n",
            "4           1  0.24  0.2879  0.75        0.0       0           1    1  \n",
            "\n",
            "First few rows of day.csv:\n",
            "   instant      dteday  season  yr  mnth  holiday  weekday  workingday  \\\n",
            "0        1  2011-01-01       1   0     1        0        6           0   \n",
            "1        2  2011-01-02       1   0     1        0        0           0   \n",
            "2        3  2011-01-03       1   0     1        0        1           1   \n",
            "3        4  2011-01-04       1   0     1        0        2           1   \n",
            "4        5  2011-01-05       1   0     1        0        3           1   \n",
            "\n",
            "   weathersit      temp     atemp       hum  windspeed  casual  registered  \\\n",
            "0           2  0.344167  0.363625  0.805833   0.160446     331         654   \n",
            "1           2  0.363478  0.353739  0.696087   0.248539     131         670   \n",
            "2           1  0.196364  0.189405  0.437273   0.248309     120        1229   \n",
            "3           1  0.200000  0.212122  0.590435   0.160296     108        1454   \n",
            "4           1  0.226957  0.229270  0.436957   0.186900      82        1518   \n",
            "\n",
            "    cnt  \n",
            "0   985  \n",
            "1   801  \n",
            "2  1349  \n",
            "3  1562  \n",
            "4  1600  \n",
            "\n",
            "Information about hour.csv:\n",
            "<class 'pandas.core.frame.DataFrame'>\n",
            "RangeIndex: 17379 entries, 0 to 17378\n",
            "Data columns (total 17 columns):\n",
            " #   Column      Non-Null Count  Dtype  \n",
            "---  ------      --------------  -----  \n",
            " 0   instant     17379 non-null  int64  \n",
            " 1   dteday      17379 non-null  object \n",
            " 2   season      17379 non-null  int64  \n",
            " 3   yr          17379 non-null  int64  \n",
            " 4   mnth        17379 non-null  int64  \n",
            " 5   hr          17379 non-null  int64  \n",
            " 6   holiday     17379 non-null  int64  \n",
            " 7   weekday     17379 non-null  int64  \n",
            " 8   workingday  17379 non-null  int64  \n",
            " 9   weathersit  17379 non-null  int64  \n",
            " 10  temp        17379 non-null  float64\n",
            " 11  atemp       17379 non-null  float64\n",
            " 12  hum         17379 non-null  float64\n",
            " 13  windspeed   17379 non-null  float64\n",
            " 14  casual      17379 non-null  int64  \n",
            " 15  registered  17379 non-null  int64  \n",
            " 16  cnt         17379 non-null  int64  \n",
            "dtypes: float64(4), int64(12), object(1)\n",
            "memory usage: 2.3+ MB\n",
            "\n",
            "Information about day.csv:\n",
            "<class 'pandas.core.frame.DataFrame'>\n",
            "RangeIndex: 731 entries, 0 to 730\n",
            "Data columns (total 16 columns):\n",
            " #   Column      Non-Null Count  Dtype  \n",
            "---  ------      --------------  -----  \n",
            " 0   instant     731 non-null    int64  \n",
            " 1   dteday      731 non-null    object \n",
            " 2   season      731 non-null    int64  \n",
            " 3   yr          731 non-null    int64  \n",
            " 4   mnth        731 non-null    int64  \n",
            " 5   holiday     731 non-null    int64  \n",
            " 6   weekday     731 non-null    int64  \n",
            " 7   workingday  731 non-null    int64  \n",
            " 8   weathersit  731 non-null    int64  \n",
            " 9   temp        731 non-null    float64\n",
            " 10  atemp       731 non-null    float64\n",
            " 11  hum         731 non-null    float64\n",
            " 12  windspeed   731 non-null    float64\n",
            " 13  casual      731 non-null    int64  \n",
            " 14  registered  731 non-null    int64  \n",
            " 15  cnt         731 non-null    int64  \n",
            "dtypes: float64(4), int64(11), object(1)\n",
            "memory usage: 91.5+ KB\n",
            "\n",
            "Missing values in hour.csv:\n",
            "instant       0\n",
            "dteday        0\n",
            "season        0\n",
            "yr            0\n",
            "mnth          0\n",
            "hr            0\n",
            "holiday       0\n",
            "weekday       0\n",
            "workingday    0\n",
            "weathersit    0\n",
            "temp          0\n",
            "atemp         0\n",
            "hum           0\n",
            "windspeed     0\n",
            "casual        0\n",
            "registered    0\n",
            "cnt           0\n",
            "dtype: int64\n",
            "\n",
            "Missing values in day.csv:\n",
            "instant       0\n",
            "dteday        0\n",
            "season        0\n",
            "yr            0\n",
            "mnth          0\n",
            "holiday       0\n",
            "weekday       0\n",
            "workingday    0\n",
            "weathersit    0\n",
            "temp          0\n",
            "atemp         0\n",
            "hum           0\n",
            "windspeed     0\n",
            "casual        0\n",
            "registered    0\n",
            "cnt           0\n",
            "dtype: int64\n"
          ]
        }
      ]
    },
    {
      "cell_type": "markdown",
      "source": [
        "**Insight:**\n",
        "\n",
        "\n",
        "- Data sudah siap untuk eksplorasi lebih lanjut dengan visualisasi dan analisis statistik guna menjawab pertanyaan bisnis tentang pengaruh cuaca dan hari kerja/akhir pekan terhadap jumlah penyewaan sepeda.\n"
      ],
      "metadata": {
        "id": "7dtxhAPrkhPL"
      }
    },
    {
      "cell_type": "markdown",
      "metadata": {
        "id": "EhN5R4hr8DC1"
      },
      "source": [
        "### Cleaning Data"
      ]
    },
    {
      "cell_type": "code",
      "source": [
        "# Memuat data CSV\n",
        "hour_df = pd.read_csv('hour.csv')\n",
        "day_df = pd.read_csv('day.csv')\n",
        "\n",
        "# 1. Mengonversi kolom dteday menjadi tipe datetime\n",
        "hour_df['dteday'] = pd.to_datetime(hour_df['dteday'])\n",
        "day_df['dteday'] = pd.to_datetime(day_df['dteday'])\n",
        "\n",
        "# 2. Membuat kolom 'day_of_week' untuk kemudahan analisis berdasarkan hari\n",
        "hour_df['day_of_week'] = hour_df['dteday'].dt.day_name()\n",
        "day_df['day_of_week'] = day_df['dteday'].dt.day_name()\n",
        "\n",
        "# 3. Menghapus kolom yang tidak diperlukan (misalnya, 'instant')\n",
        "hour_df.drop(columns=['instant'], inplace=True)\n",
        "day_df.drop(columns=['instant'], inplace=True)\n",
        "\n",
        "# 4. Menambahkan kolom 'day_type' untuk analisis hari kerja dan akhir pekan\n",
        "hour_df['day_type'] = hour_df['workingday'].apply(lambda x: 'Hari Kerja' if x == 1 else 'Akhir Pekan')\n",
        "day_df['day_type'] = day_df['workingday'].apply(lambda x: 'Hari Kerja' if x == 1 else 'Akhir Pekan')\n",
        "\n",
        "# 5. Memeriksa data setelah pembersihan\n",
        "print(\"\\nFirst few rows of cleaned hour.csv:\")\n",
        "print(hour_df.head())\n",
        "\n",
        "print(\"\\nFirst few rows of cleaned day.csv:\")\n",
        "print(day_df.head())\n",
        "\n",
        "# 6. Menyimpan dataset yang sudah dibersihkan ke file baru (opsional)\n",
        "hour_df.to_csv('cleaned_hour.csv', index=False)\n",
        "day_df.to_csv('cleaned_day.csv', index=False)"
      ],
      "metadata": {
        "id": "jVnYpprE9Evz",
        "colab": {
          "base_uri": "https://localhost:8080/"
        },
        "outputId": "ff77d7ab-bc78-4ddb-c4eb-5b470554891c"
      },
      "execution_count": 8,
      "outputs": [
        {
          "output_type": "stream",
          "name": "stdout",
          "text": [
            "\n",
            "First few rows of cleaned hour.csv:\n",
            "      dteday  season  yr  mnth  hr  holiday  weekday  workingday  weathersit  \\\n",
            "0 2011-01-01       1   0     1   0        0        6           0           1   \n",
            "1 2011-01-01       1   0     1   1        0        6           0           1   \n",
            "2 2011-01-01       1   0     1   2        0        6           0           1   \n",
            "3 2011-01-01       1   0     1   3        0        6           0           1   \n",
            "4 2011-01-01       1   0     1   4        0        6           0           1   \n",
            "\n",
            "   temp   atemp   hum  windspeed  casual  registered  cnt day_of_week  \\\n",
            "0  0.24  0.2879  0.81        0.0       3          13   16    Saturday   \n",
            "1  0.22  0.2727  0.80        0.0       8          32   40    Saturday   \n",
            "2  0.22  0.2727  0.80        0.0       5          27   32    Saturday   \n",
            "3  0.24  0.2879  0.75        0.0       3          10   13    Saturday   \n",
            "4  0.24  0.2879  0.75        0.0       0           1    1    Saturday   \n",
            "\n",
            "      day_type  \n",
            "0  Akhir Pekan  \n",
            "1  Akhir Pekan  \n",
            "2  Akhir Pekan  \n",
            "3  Akhir Pekan  \n",
            "4  Akhir Pekan  \n",
            "\n",
            "First few rows of cleaned day.csv:\n",
            "      dteday  season  yr  mnth  holiday  weekday  workingday  weathersit  \\\n",
            "0 2011-01-01       1   0     1        0        6           0           2   \n",
            "1 2011-01-02       1   0     1        0        0           0           2   \n",
            "2 2011-01-03       1   0     1        0        1           1           1   \n",
            "3 2011-01-04       1   0     1        0        2           1           1   \n",
            "4 2011-01-05       1   0     1        0        3           1           1   \n",
            "\n",
            "       temp     atemp       hum  windspeed  casual  registered   cnt  \\\n",
            "0  0.344167  0.363625  0.805833   0.160446     331         654   985   \n",
            "1  0.363478  0.353739  0.696087   0.248539     131         670   801   \n",
            "2  0.196364  0.189405  0.437273   0.248309     120        1229  1349   \n",
            "3  0.200000  0.212122  0.590435   0.160296     108        1454  1562   \n",
            "4  0.226957  0.229270  0.436957   0.186900      82        1518  1600   \n",
            "\n",
            "  day_of_week     day_type  \n",
            "0    Saturday  Akhir Pekan  \n",
            "1      Sunday  Akhir Pekan  \n",
            "2      Monday   Hari Kerja  \n",
            "3     Tuesday   Hari Kerja  \n",
            "4   Wednesday   Hari Kerja  \n"
          ]
        }
      ]
    },
    {
      "cell_type": "markdown",
      "source": [
        "**Insight:**\n",
        "\n",
        "- Setelah proses pembersihan data, dataset ini siap untuk dianalisis lebih lanjut untuk menjawab pertanyaan tentang pengaruh cuaca dan hubungan antara hari kerja dan akhir pekan terhadap jumlah penyewaan sepeda.\n",
        "\n",
        "- Selanjutnya, visualisasi dan analisis statistik dapat digunakan untuk menggali lebih dalam hubungan antara faktor-faktor ini dan jumlah penyewaan sepeda."
      ],
      "metadata": {
        "id": "Q_5ejIqckiSP"
      }
    },
    {
      "cell_type": "markdown",
      "metadata": {
        "id": "gp-Y6wU38DC1"
      },
      "source": [
        "## Exploratory Data Analysis (EDA)"
      ]
    },
    {
      "cell_type": "markdown",
      "metadata": {
        "id": "MW7WF2kr8DC1"
      },
      "source": [
        "###  EDA untuk Statistik Deskriptif untuk cnt berdasarkan weathersit"
      ]
    },
    {
      "cell_type": "code",
      "execution_count": 10,
      "metadata": {
        "id": "e9CQCZjk8DC2",
        "colab": {
          "base_uri": "https://localhost:8080/"
        },
        "outputId": "af433af3-abba-4d12-da79-04909a512f13"
      },
      "outputs": [
        {
          "output_type": "stream",
          "name": "stdout",
          "text": [
            "\n",
            "Statistik Deskriptif Jumlah Penyewaan Sepeda berdasarkan Cuaca:\n",
            "              count        mean         std   min   25%    50%    75%    max\n",
            "weathersit                                                                  \n",
            "1           11413.0  204.869272  189.487773   1.0  46.0  159.0  304.0  977.0\n",
            "2            4544.0  175.165493  165.431589   1.0  40.0  133.0  257.0  957.0\n",
            "3            1419.0  111.579281  133.781045   1.0  21.0   63.0  152.5  891.0\n",
            "4               3.0   74.333333   77.925178  23.0  29.5   36.0  100.0  164.0\n"
          ]
        }
      ],
      "source": [
        "# Menghitung statistik deskriptif untuk jumlah penyewaan sepeda (cnt) berdasarkan cuaca\n",
        "weather_group = hour_df.groupby('weathersit')['cnt'].describe()\n",
        "print(\"\\nStatistik Deskriptif Jumlah Penyewaan Sepeda berdasarkan Cuaca:\")\n",
        "print(weather_group)\n"
      ]
    },
    {
      "cell_type": "markdown",
      "source": [
        "**Insight:**\n",
        "- Untuk meningkatkan jumlah penyewaan sepeda, strategi promosi atau peningkatan layanan bisa lebih difokuskan pada cuaca cerah dan mengurangi faktor-faktor yang menghalangi penyewaan saat cuaca buruk atau ekstrem."
      ],
      "metadata": {
        "id": "th_Lzl2Fkj9O"
      }
    },
    {
      "cell_type": "markdown",
      "source": [
        "###  EDA untuk Hitung rata-rata penyewaan sepeda untuk hari kerja dan akhir pekan."
      ],
      "metadata": {
        "id": "iNhPfpUsp0Jb"
      }
    },
    {
      "cell_type": "code",
      "source": [
        "# Rata-rata penyewaan sepeda berdasarkan hari kerja vs akhir pekan\n",
        "avg_day_type = hour_df.groupby('day_type')['cnt'].mean()\n",
        "print(\"\\nRata-rata Penyewaan Sepeda berdasarkan Hari Kerja vs. Akhir Pekan:\")\n",
        "print(avg_day_type)\n"
      ],
      "metadata": {
        "colab": {
          "base_uri": "https://localhost:8080/"
        },
        "id": "qVeiGIAtp5eq",
        "outputId": "7e60cf47-804b-4ace-c7fd-fa3d6e3c9b15"
      },
      "execution_count": 11,
      "outputs": [
        {
          "output_type": "stream",
          "name": "stdout",
          "text": [
            "\n",
            "Rata-rata Penyewaan Sepeda berdasarkan Hari Kerja vs. Akhir Pekan:\n",
            "day_type\n",
            "Akhir Pekan    181.405332\n",
            "Hari Kerja     193.207754\n",
            "Name: cnt, dtype: float64\n"
          ]
        }
      ]
    },
    {
      "cell_type": "markdown",
      "source": [
        "**Insight:**\n",
        "- Untuk akhir pekan, strategi pemasaran atau promosi mungkin perlu disesuaikan untuk menarik lebih banyak pengguna, misalnya dengan menawarkan diskon atau paket keluarga yang dapat memotivasi orang untuk menggunakan sepeda pada waktu luang mereka."
      ],
      "metadata": {
        "id": "knruL0K0qFUl"
      }
    },
    {
      "cell_type": "markdown",
      "source": [
        "###  EDA untuk Perhitungan Rata-rata Penyewaan Sepeda berdasarkan Cuaca"
      ],
      "metadata": {
        "id": "LC4A1WbvqMdD"
      }
    },
    {
      "cell_type": "code",
      "source": [
        "# Rata-rata penyewaan sepeda berdasarkan cuaca\n",
        "avg_weather = hour_df.groupby('weathersit')['cnt'].mean()\n",
        "print(\"\\nRata-rata Penyewaan Sepeda berdasarkan Cuaca:\")\n",
        "print(avg_weather)\n"
      ],
      "metadata": {
        "colab": {
          "base_uri": "https://localhost:8080/"
        },
        "id": "AjiEL8eiqrRC",
        "outputId": "1f8634af-6d37-4a44-a0eb-79fe492a6aeb"
      },
      "execution_count": 12,
      "outputs": [
        {
          "output_type": "stream",
          "name": "stdout",
          "text": [
            "\n",
            "Rata-rata Penyewaan Sepeda berdasarkan Cuaca:\n",
            "weathersit\n",
            "1    204.869272\n",
            "2    175.165493\n",
            "3    111.579281\n",
            "4     74.333333\n",
            "Name: cnt, dtype: float64\n"
          ]
        }
      ]
    },
    {
      "cell_type": "markdown",
      "source": [
        "**Insight**\n",
        "- Cuaca cerah mendukung peningkatan penyewaan sepeda, sementara cuaca buruk (hujan lebat atau ekstrem) sangat menghambat penggunaan sepeda. Meskipun cuaca mendung atau hujan ringan masih menghasilkan penyewaan, itu jauh lebih rendah dibandingkan dengan cuaca cerah."
      ],
      "metadata": {
        "id": "DLjPB8kMq7Ht"
      }
    },
    {
      "cell_type": "markdown",
      "source": [
        " ###  EDA untuk Melihat apakah variabel lain seperti suhu (temp), kelembaban (hum), atau kecepatan angin (windspeed) berhubungan dengan jumlah penyewaan sepeda."
      ],
      "metadata": {
        "id": "ThbA5OWHrVL4"
      }
    },
    {
      "cell_type": "code",
      "source": [
        "# Matriks korelasi antara variabel numerik\n",
        "correlation_matrix = hour_df[['temp', 'atemp', 'hum', 'windspeed', 'cnt']].corr()\n",
        "print(\"\\nMatriks Korelasi antara Variabel Numerik:\")\n",
        "print(correlation_matrix)\n"
      ],
      "metadata": {
        "colab": {
          "base_uri": "https://localhost:8080/"
        },
        "id": "vU-HNL7NricO",
        "outputId": "19d9cd8c-10ef-40d3-bb3e-849fb439beb6"
      },
      "execution_count": 13,
      "outputs": [
        {
          "output_type": "stream",
          "name": "stdout",
          "text": [
            "\n",
            "Matriks Korelasi antara Variabel Numerik:\n",
            "               temp     atemp       hum  windspeed       cnt\n",
            "temp       1.000000  0.987672 -0.069881  -0.023125  0.404772\n",
            "atemp      0.987672  1.000000 -0.051918  -0.062336  0.400929\n",
            "hum       -0.069881 -0.051918  1.000000  -0.290105 -0.322911\n",
            "windspeed -0.023125 -0.062336 -0.290105   1.000000  0.093234\n",
            "cnt        0.404772  0.400929 -0.322911   0.093234  1.000000\n"
          ]
        }
      ]
    },
    {
      "cell_type": "markdown",
      "source": [
        "**Insight**\n",
        "- Fokuskan promosi pada hari dengan suhu tinggi dan kelembaban rendah untuk meningkatkan penyewaan sepeda."
      ],
      "metadata": {
        "id": "bPx5u678rxrE"
      }
    },
    {
      "cell_type": "markdown",
      "source": [
        "###  EDA untuk Hitung rata-rata jumlah penyewaan sepeda berdasarkan bulan."
      ],
      "metadata": {
        "id": "jfBeKuAnr8JE"
      }
    },
    {
      "cell_type": "code",
      "source": [
        "# Rata-rata penyewaan sepeda berdasarkan bulan\n",
        "avg_month = day_df.groupby('mnth')['cnt'].mean()\n",
        "print(\"\\nRata-rata Penyewaan Sepeda berdasarkan Bulan:\")\n",
        "print(avg_month)\n"
      ],
      "metadata": {
        "colab": {
          "base_uri": "https://localhost:8080/"
        },
        "id": "hfR5XQ_msk4y",
        "outputId": "2cdeaae0-be87-452c-c62d-a8e7e99796ec"
      },
      "execution_count": 14,
      "outputs": [
        {
          "output_type": "stream",
          "name": "stdout",
          "text": [
            "\n",
            "Rata-rata Penyewaan Sepeda berdasarkan Bulan:\n",
            "mnth\n",
            "1     2176.338710\n",
            "2     2655.298246\n",
            "3     3692.258065\n",
            "4     4484.900000\n",
            "5     5349.774194\n",
            "6     5772.366667\n",
            "7     5563.677419\n",
            "8     5664.419355\n",
            "9     5766.516667\n",
            "10    5199.225806\n",
            "11    4247.183333\n",
            "12    3403.806452\n",
            "Name: cnt, dtype: float64\n"
          ]
        }
      ]
    },
    {
      "cell_type": "markdown",
      "source": [
        "**Insight**\n",
        "- Fokuskan promosi dan layanan penyewaan sepeda pada bulan-bulan musim panas (Mei hingga Agustus) untuk memaksimalkan penyewaan."
      ],
      "metadata": {
        "id": "H7vGqVNXstsV"
      }
    },
    {
      "cell_type": "markdown",
      "source": [
        "###  EDA untuk Hitung rata-rata jumlah penyewaan sepeda berdasarkan musim."
      ],
      "metadata": {
        "id": "GFCHRcwQsxsq"
      }
    },
    {
      "cell_type": "code",
      "source": [
        "# Rata-rata penyewaan sepeda berdasarkan musim\n",
        "avg_season = day_df.groupby('season')['cnt'].mean()\n",
        "print(\"\\nRata-rata Penyewaan Sepeda berdasarkan Musim:\")\n",
        "print(avg_season)\n"
      ],
      "metadata": {
        "colab": {
          "base_uri": "https://localhost:8080/"
        },
        "id": "wGsfI_cis7Zh",
        "outputId": "fc6ddef0-bba0-4b25-9c22-d61eb8c0018f"
      },
      "execution_count": 15,
      "outputs": [
        {
          "output_type": "stream",
          "name": "stdout",
          "text": [
            "\n",
            "Rata-rata Penyewaan Sepeda berdasarkan Musim:\n",
            "season\n",
            "1    2604.132597\n",
            "2    4992.331522\n",
            "3    5644.303191\n",
            "4    4728.162921\n",
            "Name: cnt, dtype: float64\n"
          ]
        }
      ]
    },
    {
      "cell_type": "markdown",
      "source": [
        "**Insight**\n",
        "- Fokuskan promosi dan layanan pada musim panas dan musim semi untuk meningkatkan penyewaan sepeda."
      ],
      "metadata": {
        "id": "eSpiCCJNtDqz"
      }
    },
    {
      "cell_type": "markdown",
      "metadata": {
        "id": "zsyZjqak8DC2"
      },
      "source": [
        "## Visualization & Explanatory Analysis"
      ]
    },
    {
      "cell_type": "markdown",
      "metadata": {
        "id": "HZxOiQ6n8DC2"
      },
      "source": [
        "### Pertanyaan 1:Bagaimana pengaruh faktor cuaca terhadap jumlah penyewaan sepeda?"
      ]
    },
    {
      "cell_type": "code",
      "execution_count": 19,
      "metadata": {
        "id": "1swJUdAD8DC2",
        "colab": {
          "base_uri": "https://localhost:8080/",
          "height": 680
        },
        "outputId": "5c54969e-148a-47fd-d3e6-4df3ab7e11d2"
      },
      "outputs": [
        {
          "output_type": "stream",
          "name": "stderr",
          "text": [
            "<ipython-input-19-2a9de80ccc95>:13: FutureWarning: \n",
            "\n",
            "Passing `palette` without assigning `hue` is deprecated and will be removed in v0.14.0. Assign the `x` variable to `hue` and set `legend=False` for the same effect.\n",
            "\n",
            "  sns.barplot(data=avg_weather, x='weathersit', y='cnt', palette='Blues_d')\n"
          ]
        },
        {
          "output_type": "display_data",
          "data": {
            "text/plain": [
              "<Figure size 800x600 with 1 Axes>"
            ],
            "image/png": "[encoded data removed]"
          },
          "metadata": {}
        }
      ],
      "source": [
        "import matplotlib.pyplot as plt\n",
        "import seaborn as sns\n",
        "\n",
        "# Menghitung rata-rata penyewaan sepeda berdasarkan cuaca\n",
        "avg_weather = hour_df.groupby('weathersit')['cnt'].mean().reset_index()\n",
        "\n",
        "# Mengatur kategori cuaca agar lebih mudah dipahami\n",
        "weather_labels = {1: 'Cerah', 2: 'Mendung/Hujan Ringan', 3: 'Hujan Lebat', 4: 'Ekstrem'}\n",
        "avg_weather['weathersit'] = avg_weather['weathersit'].map(weather_labels)\n",
        "\n",
        "# Membuat bar chart\n",
        "plt.figure(figsize=(8, 6))\n",
        "sns.barplot(data=avg_weather, x='weathersit', y='cnt', palette='Blues_d')\n",
        "plt.title('Rata-rata Penyewaan Sepeda Berdasarkan Cuaca')\n",
        "plt.xlabel('Kondisi Cuaca')\n",
        "plt.ylabel('Rata-rata Penyewaan Sepeda')\n",
        "plt.show()\n"
      ]
    },
    {
      "cell_type": "markdown",
      "metadata": {
        "id": "DgHI7CiU8DC2"
      },
      "source": [
        "### Pertanyaan 2:Apa hubungan antara hari kerja dan akhir pekan dengan jumlah penyewaan sepeda?"
      ]
    },
    {
      "cell_type": "code",
      "execution_count": 20,
      "metadata": {
        "id": "Go0lCsvO8DC2",
        "colab": {
          "base_uri": "https://localhost:8080/",
          "height": 680
        },
        "outputId": "c665d2d6-606e-408b-dae5-3f433cf8717e"
      },
      "outputs": [
        {
          "output_type": "stream",
          "name": "stderr",
          "text": [
            "<ipython-input-20-fb7df85eb793>:6: FutureWarning: \n",
            "\n",
            "Passing `palette` without assigning `hue` is deprecated and will be removed in v0.14.0. Assign the `x` variable to `hue` and set `legend=False` for the same effect.\n",
            "\n",
            "  sns.barplot(data=avg_day_type, x='day_type', y='cnt', palette='muted')\n"
          ]
        },
        {
          "output_type": "display_data",
          "data": {
            "text/plain": [
              "<Figure size 800x600 with 1 Axes>"
            ],
            "image/png": "[encoded data removed]"
          },
          "metadata": {}
        }
      ],
      "source": [
        "# Menghitung rata-rata penyewaan sepeda berdasarkan tipe hari\n",
        "avg_day_type = hour_df.groupby('day_type')['cnt'].mean().reset_index()\n",
        "\n",
        "# Membuat bar chart\n",
        "plt.figure(figsize=(8, 6))\n",
        "sns.barplot(data=avg_day_type, x='day_type', y='cnt', palette='muted')\n",
        "plt.title('Rata-rata Penyewaan Sepeda Berdasarkan Hari Kerja dan Akhir Pekan')\n",
        "plt.xlabel('Tipe Hari')\n",
        "plt.ylabel('Rata-rata Penyewaan Sepeda')\n",
        "plt.show()\n"
      ]
    },
    {
      "cell_type": "markdown",
      "source": [
        "**Insight:**\n",
        "- Jumlah penyewaan sepeda menurun seiring memburuknya kondisi cuaca. Cuaca cerah mendorong aktivitas penyewaan tertinggi, sementara cuaca hujan lebat dan ekstrem sangat menghambat penyewaan.\n",
        "- Jumlah penyewaan sepeda sedikit lebih tinggi pada Hari Kerja, yang menunjukkan penggunaan sepeda lebih banyak untuk keperluan transportasi rutin dibandingkan aktivitas rekreasi pada Akhir Pekan. Namun, kedua tipe hari memiliki pola distribusi yang mirip dengan beberapa outlier di tingkat penyewaan tinggi."
      ],
      "metadata": {
        "id": "_0-36BDLklRg"
      }
    },
    {
      "cell_type": "markdown",
      "metadata": {
        "id": "_WeHlCeX8DC2"
      },
      "source": [
        "## Conclusion"
      ]
    },
    {
      "cell_type": "markdown",
      "metadata": {
        "id": "ZTcyR48Y8DC2"
      },
      "source": [
        "- Conclution pertanyaan 1 : Cuaca cerah dan Hari Kerja merupakan faktor utama yang mendorong peningkatan jumlah penyewaan sepeda.\n",
        "- Conclution pertanyaan 2 : Penyewaan sepeda berkurang pada cuaca buruk dan Akhir Pekan, yang mungkin dipengaruhi oleh kenyamanan dan tujuan penggunaan sepeda."
      ]
    }
  ],
  "metadata": {
    "kernelspec": {
      "display_name": "Python 3",
      "language": "python",
      "name": "python3"
    },
    "language_info": {
      "name": "python",
      "version": "3.8.0 (tags/v3.8.0:fa919fd, Oct 14 2019, 19:21:23) [MSC v.1916 32 bit (Intel)]"
    },
    "orig_nbformat": 4,
    "vscode": {
      "interpreter": {
        "hash": "972b3bf27e332e87b5379f2791f6ef9dfc79c71018c370b0d7423235e20fe4d7"
      }
    },
    "colab": {
      "provenance": []
    }
  },
  "nbformat": 4,
  "nbformat_minor": 0
}